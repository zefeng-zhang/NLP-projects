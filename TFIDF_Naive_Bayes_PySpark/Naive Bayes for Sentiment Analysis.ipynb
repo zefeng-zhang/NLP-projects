{
 "cells": [
  {
   "cell_type": "markdown",
   "metadata": {},
   "source": [
    "## Load Data"
   ]
  },
  {
   "cell_type": "code",
   "execution_count": 1,
   "metadata": {
    "collapsed": true
   },
   "outputs": [],
   "source": [
    "import numpy as np\n",
    "from collections import Counter"
   ]
  },
  {
   "cell_type": "code",
   "execution_count": 2,
   "metadata": {
    "collapsed": true
   },
   "outputs": [],
   "source": [
    "path = \"/Users/zefeng-zhang/data/aclImdb/\"\n",
    "train_path = path + 'train/'\n",
    "test_path = path + 'test/'"
   ]
  },
  {
   "cell_type": "code",
   "execution_count": 3,
   "metadata": {
    "collapsed": false
   },
   "outputs": [],
   "source": [
    "data_raw_pos = sc.textFile(train_path + \"pos/*.txt\")\n",
    "data_raw_neg = sc.textFile(train_path + \"neg/*.txt\")"
   ]
  },
  {
   "cell_type": "code",
   "execution_count": 4,
   "metadata": {
    "collapsed": false
   },
   "outputs": [
    {
     "data": {
      "text/plain": [
       "u'Bromwell High is a cartoon comedy. It ran at the same time as some other programs about school life, such as \"Teachers\". My 35 years in the teaching profession lead me to believe that Bromwell High\\'s satire is much closer to reality than is \"Teachers\". The scramble to survive financially, the insightful students who can see right through their pathetic teachers\\' pomp, the pettiness of the whole situation, all remind me of the schools I knew and their students. When I saw the episode in which a student repeatedly tried to burn down the school, I immediately recalled ......... at .......... High. A classic line: INSPECTOR: I\\'m here to sack one of your teachers. STUDENT: Welcome to Bromwell High. I expect that many adults of my age think that Bromwell High is far fetched. What a pity that it isn\\'t!'"
      ]
     },
     "execution_count": 4,
     "metadata": {},
     "output_type": "execute_result"
    }
   ],
   "source": [
    "data_raw_pos.first()"
   ]
  },
  {
   "cell_type": "code",
   "execution_count": 5,
   "metadata": {
    "collapsed": false
   },
   "outputs": [],
   "source": [
    "data_raw_pos = data_raw_pos.sample(False, 0.01, 1)\n",
    "data_raw_neg = data_raw_neg.sample(False, 0.01, 1)"
   ]
  },
  {
   "cell_type": "code",
   "execution_count": 6,
   "metadata": {
    "collapsed": false
   },
   "outputs": [
    {
     "data": {
      "text/plain": [
       "12500"
      ]
     },
     "execution_count": 6,
     "metadata": {},
     "output_type": "execute_result"
    }
   ],
   "source": [
    "data_raw_pos.getNumPartitions()"
   ]
  },
  {
   "cell_type": "code",
   "execution_count": 7,
   "metadata": {
    "collapsed": false
   },
   "outputs": [],
   "source": [
    "num_partitions = 8\n",
    "data_raw_pos = data_raw_pos.repartition(num_partitions)\n",
    "data_raw_neg = data_raw_neg.repartition(num_partitions)"
   ]
  },
  {
   "cell_type": "markdown",
   "metadata": {},
   "source": [
    "## Training NB"
   ]
  },
  {
   "cell_type": "code",
   "execution_count": 8,
   "metadata": {
    "collapsed": false
   },
   "outputs": [
    {
     "data": {
      "text/plain": [
       "[(u'government,', 1),\n",
       " (u'detective', 7),\n",
       " (u'astonishing', 1),\n",
       " (u'Day.', 2),\n",
       " (u'pound,', 1),\n",
       " (u'ridden', 1),\n",
       " (u'timely', 1),\n",
       " (u'foremost,', 1),\n",
       " (u'public.', 1),\n",
       " (u'sympathetic', 2)]"
      ]
     },
     "execution_count": 8,
     "metadata": {},
     "output_type": "execute_result"
    }
   ],
   "source": [
    "# split into words\n",
    "data_pos = data_raw_pos.flatMap(lambda x : x.split()).map(lambda x : (x, 1)).reduceByKey(lambda x, y : x+y)\n",
    "data_pos.take(10)"
   ]
  },
  {
   "cell_type": "code",
   "execution_count": 9,
   "metadata": {
    "collapsed": false
   },
   "outputs": [
    {
     "data": {
      "text/plain": [
       "[(u'/>of', 1),\n",
       " (u'aided', 1),\n",
       " (u'Suspects\"ish', 1),\n",
       " (u'days.', 2),\n",
       " (u'dubbed', 1),\n",
       " (u'sympathetic', 1),\n",
       " (u'...except', 1),\n",
       " (u'known', 2),\n",
       " (u'helped', 2),\n",
       " (u'musicals.', 1)]"
      ]
     },
     "execution_count": 9,
     "metadata": {},
     "output_type": "execute_result"
    }
   ],
   "source": [
    "data_neg = data_raw_neg.flatMap(lambda x : x.split()).map(lambda x : (x, 1)).reduceByKey(lambda x, y : x+y)\n",
    "data_neg.take(10)"
   ]
  },
  {
   "cell_type": "code",
   "execution_count": 14,
   "metadata": {
    "collapsed": false
   },
   "outputs": [
    {
     "name": "stdout",
     "output_type": "stream",
     "text": [
      "29040 26850\n"
     ]
    }
   ],
   "source": [
    "count_pos = data_pos.map(lambda x : x[1]).reduce(lambda x, y : x+y)\n",
    "count_neg = data_neg.map(lambda x : x[1]).reduce(lambda x, y : x+y)\n",
    "print count_pos, count_neg"
   ]
  },
  {
   "cell_type": "code",
   "execution_count": 15,
   "metadata": {
    "collapsed": false
   },
   "outputs": [
    {
     "name": "stdout",
     "output_type": "stream",
     "text": [
      "12606\n"
     ]
    }
   ],
   "source": [
    "v1 = data_pos.map(lambda x : x[0])\n",
    "v2 = data_neg.map(lambda x : x[0])\n",
    "v0 = v1.union(v2).distinct()\n",
    "v = v0.count()\n",
    "print v"
   ]
  },
  {
   "cell_type": "code",
   "execution_count": 16,
   "metadata": {
    "collapsed": true
   },
   "outputs": [],
   "source": [
    "pos_denom = float(count_pos + v + 1)\n",
    "neg_denom = float(count_neg + v + 1)"
   ]
  },
  {
   "cell_type": "code",
   "execution_count": 17,
   "metadata": {
    "collapsed": true
   },
   "outputs": [],
   "source": [
    "pos_prob = data_pos.map(lambda x : (x[0], np.log(float(x[1] + 1)/pos_denom)))\n",
    "neg_prob = data_neg.map(lambda x : (x[0], np.log(float(x[1] + 1)/neg_denom)))"
   ]
  },
  {
   "cell_type": "code",
   "execution_count": 18,
   "metadata": {
    "collapsed": false
   },
   "outputs": [
    {
     "data": {
      "text/plain": [
       "[(u'/>of', -9.8898195697707081),\n",
       " (u'aided', -9.8898195697707081),\n",
       " (u'Suspects\"ish', -9.8898195697707081),\n",
       " (u'days.', -9.4843544616625426),\n",
       " (u'dubbed', -9.8898195697707081),\n",
       " (u'sympathetic', -9.8898195697707081),\n",
       " (u'...except', -9.8898195697707081),\n",
       " (u'known', -9.4843544616625426),\n",
       " (u'helped', -9.4843544616625426),\n",
       " (u'musicals.', -9.8898195697707081)]"
      ]
     },
     "execution_count": 18,
     "metadata": {},
     "output_type": "execute_result"
    }
   ],
   "source": [
    "pos_prob.take(10)\n",
    "neg_prob.take(10)"
   ]
  },
  {
   "cell_type": "code",
   "execution_count": 19,
   "metadata": {
    "collapsed": false
   },
   "outputs": [],
   "source": [
    "pos_prob = dict(pos_prob.collect())\n",
    "neg_prob = dict(neg_prob.collect())"
   ]
  },
  {
   "cell_type": "code",
   "execution_count": 20,
   "metadata": {
    "collapsed": true
   },
   "outputs": [],
   "source": [
    "pos_prob_b = sc.broadcast(pos_prob)\n",
    "neg_prob_b = sc.broadcast(neg_prob)"
   ]
  },
  {
   "cell_type": "markdown",
   "metadata": {},
   "source": [
    "## Prediction"
   ]
  },
  {
   "cell_type": "code",
   "execution_count": 21,
   "metadata": {
    "collapsed": true
   },
   "outputs": [],
   "source": [
    "def pred_class(doc):\n",
    "    words = doc.split(\" \")\n",
    "    counts = Counter(words)\n",
    "    log_pos = 0.0\n",
    "    log_neg = 0.0\n",
    "    for w in counts:\n",
    "        log_pos += counts[w] * pos_prob_b.value.get(w, np.log(1.0/pos_denom)) # default probability of \"unk\"\n",
    "        log_neg += counts[w] * neg_prob_b.value.get(w, np.log(1.0/neg_denom))\n",
    "    if log_pos > log_neg:\n",
    "        return \"pos\"\n",
    "    return \"neg\""
   ]
  },
  {
   "cell_type": "code",
   "execution_count": 24,
   "metadata": {
    "collapsed": false
   },
   "outputs": [
    {
     "name": "stdout",
     "output_type": "stream",
     "text": [
      "I went and saw this movie last night after being coaxed to by a few friends of mine. I'll admit that I was reluctant to see it because from what I knew of Ashton Kutcher he was only able to do comedy. I was wrong. Kutcher played the character of Jake Fischer very well, and Kevin Costner played Ben Randall with such professionalism. The sign of a good movie is that it can toy with our emotions. This one did exactly that. The entire theater (which was sold out) was overcome by laughter during the first half of the movie, and were moved to tears during the second half. While exiting the theater I not only saw many women in tears, but many full grown men as well, trying desperately not to let anyone see them crying. This movie was great, and I suggest that you go see it before you judge.\n",
      "[u\"I went and saw this movie last night after being coaxed to by a few friends of mine. I'll admit that I was reluctant to see it because from what I knew of Ashton Kutcher he was only able to do comedy. I was wrong. Kutcher played the character of Jake Fischer very well, and Kevin Costner played Ben Randall with such professionalism. The sign of a good movie is that it can toy with our emotions. This one did exactly that. The entire theater (which was sold out) was overcome by laughter during the first half of the movie, and were moved to tears during the second half. While exiting the theater I not only saw many women in tears, but many full grown men as well, trying desperately not to let anyone see them crying. This movie was great, and I suggest that you go see it before you judge.\", u'Actor turned director Bill Paxton follows up his promising debut, the Gothic-horror \"Frailty\", with this family friendly sports drama about the 1913 U.S. Open where a young American caddy rises from his humble background to play against his Bristish idol in what was dubbed as \"The Greatest Game Ever Played.\" I\\'m no fan of golf, and these scrappy underdog sports flicks are a dime a dozen (most recently done to grand effect with \"Miracle\" and \"Cinderella Man\"), but some how this film was enthralling all the same.<br /><br />The film starts with some creative opening credits (imagine a Disneyfied version of the animated opening credits of HBO\\'s \"Carnivale\" and \"Rome\"), but lumbers along slowly for its first by-the-numbers hour. Once the action moves to the U.S. Open things pick up very well. Paxton does a nice job and shows a knack for effective directorial flourishes (I loved the rain-soaked montage of the action on day two of the open) that propel the plot further or add some unexpected psychological depth to the proceedings. There\\'s some compelling character development when the British Harry Vardon is haunted by images of the aristocrats in black suits and top hats who destroyed his family cottage as a child to make way for a golf course. He also does a good job of visually depicting what goes on in the players\\' heads under pressure. Golf, a painfully boring sport, is brought vividly alive here. Credit should also be given the set designers and costume department for creating an engaging period-piece atmosphere of London and Boston at the beginning of the twentieth century.<br /><br />You know how this is going to end not only because it\\'s based on a true story but also because films in this genre follow the same template over and over, but Paxton puts on a better than average show and perhaps indicates more talent behind the camera than he ever had in front of it. Despite the formulaic nature, this is a nice and easy film to root for that deserves to find an audience.']\n"
     ]
    }
   ],
   "source": [
    "test_raw_pos = sc.textFile(test_path + \"pos/*.txt\")\n",
    "print test_raw_pos.first()\n",
    "print test_raw_pos.take(2)\n",
    "test_raw_neg = sc.textFile(test_path + \"neg/*.txt\")"
   ]
  },
  {
   "cell_type": "code",
   "execution_count": 25,
   "metadata": {
    "collapsed": false
   },
   "outputs": [],
   "source": [
    "test_pos_res = test_raw_pos.map(pred_class)\n",
    "test_pos_res.take(10)\n",
    "pos_results = Counter(test_pos_res.collect())\n",
    "\n",
    "test_neg_res = test_raw_neg.map(pred_class)\n",
    "test_neg_res.take(10)\n",
    "neg_results = Counter(test_neg_res.collect())"
   ]
  },
  {
   "cell_type": "code",
   "execution_count": 26,
   "metadata": {
    "collapsed": false
   },
   "outputs": [
    {
     "name": "stdout",
     "output_type": "stream",
     "text": [
      "0.73064\n"
     ]
    }
   ],
   "source": [
    "accuracy = (pos_results['pos'] + neg_results['neg'])/float(pos_results['pos'] + pos_results['neg'] + neg_results['pos'] + neg_results['neg'])\n",
    "print accuracy"
   ]
  },
  {
   "cell_type": "code",
   "execution_count": null,
   "metadata": {
    "collapsed": true
   },
   "outputs": [],
   "source": []
  }
 ],
 "metadata": {
  "anaconda-cloud": {},
  "kernelspec": {
   "display_name": "Python [conda root]",
   "language": "python",
   "name": "conda-root-py"
  },
  "language_info": {
   "codemirror_mode": {
    "name": "ipython",
    "version": 2
   },
   "file_extension": ".py",
   "mimetype": "text/x-python",
   "name": "python",
   "nbconvert_exporter": "python",
   "pygments_lexer": "ipython2",
   "version": "2.7.12"
  }
 },
 "nbformat": 4,
 "nbformat_minor": 1
}
