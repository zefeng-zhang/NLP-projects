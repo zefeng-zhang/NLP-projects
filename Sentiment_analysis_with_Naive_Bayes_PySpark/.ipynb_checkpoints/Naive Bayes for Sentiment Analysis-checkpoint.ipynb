{
 "cells": [
  {
   "cell_type": "markdown",
   "metadata": {},
   "source": [
    "## Load Data"
   ]
  },
  {
   "cell_type": "code",
   "execution_count": 1,
   "metadata": {
    "collapsed": true
   },
   "outputs": [],
   "source": [
    "import numpy as np\n",
    "from collections import Counter"
   ]
  },
  {
   "cell_type": "code",
   "execution_count": 1,
   "metadata": {
    "collapsed": true
   },
   "outputs": [],
   "source": [
    "path = \"/Users/zefeng-zhang/data/aclImdb/\"\n",
    "train_path = path + 'train/'\n",
    "test_path = path + 'test/'"
   ]
  },
  {
   "cell_type": "code",
   "execution_count": 2,
   "metadata": {
    "collapsed": true
   },
   "outputs": [],
   "source": [
    "data_raw_pos = sc.textFile(train_path + \"pos/*.txt\")\n",
    "data_raw_neg = sc.textFile(train_path + \"neg/*.txt\")"
   ]
  },
  {
   "cell_type": "code",
   "execution_count": 3,
   "metadata": {
    "collapsed": false
   },
   "outputs": [
    {
     "data": {
      "text/plain": [
       "u'Bromwell High is a cartoon comedy. It ran at the same time as some other programs about school life, such as \"Teachers\". My 35 years in the teaching profession lead me to believe that Bromwell High\\'s satire is much closer to reality than is \"Teachers\". The scramble to survive financially, the insightful students who can see right through their pathetic teachers\\' pomp, the pettiness of the whole situation, all remind me of the schools I knew and their students. When I saw the episode in which a student repeatedly tried to burn down the school, I immediately recalled ......... at .......... High. A classic line: INSPECTOR: I\\'m here to sack one of your teachers. STUDENT: Welcome to Bromwell High. I expect that many adults of my age think that Bromwell High is far fetched. What a pity that it isn\\'t!'"
      ]
     },
     "execution_count": 3,
     "metadata": {},
     "output_type": "execute_result"
    }
   ],
   "source": [
    "data_raw_pos.first()"
   ]
  },
  {
   "cell_type": "code",
   "execution_count": 4,
   "metadata": {
    "collapsed": false
   },
   "outputs": [],
   "source": [
    "data_raw_pos = data_raw_pos.sample(False, 0.9, 1)\n",
    "data_raw_neg = data_raw_neg.sample(False, 0.9, 1)"
   ]
  },
  {
   "cell_type": "code",
   "execution_count": 29,
   "metadata": {
    "collapsed": false
   },
   "outputs": [
    {
     "data": {
      "text/plain": [
       "12500"
      ]
     },
     "execution_count": 29,
     "metadata": {},
     "output_type": "execute_result"
    }
   ],
   "source": [
    "data_raw_pos.getNumPartitions()"
   ]
  },
  {
   "cell_type": "code",
   "execution_count": 30,
   "metadata": {
    "collapsed": false
   },
   "outputs": [],
   "source": [
    "num_partitions = 8\n",
    "data_raw_pos = data_raw_pos.repartition(num_partitions)\n",
    "data_raw_neg = data_raw_neg.repartition(num_partitions)"
   ]
  },
  {
   "cell_type": "markdown",
   "metadata": {},
   "source": [
    "## Training NB"
   ]
  },
  {
   "cell_type": "code",
   "execution_count": 31,
   "metadata": {
    "collapsed": false
   },
   "outputs": [
    {
     "data": {
      "text/plain": [
       "[(u'convolute', 1),\n",
       " (u'remastered', 8),\n",
       " (u'drunkenness.', 1),\n",
       " (u'Northam)', 4),\n",
       " (u'gangs.', 1),\n",
       " (u'anyways.I', 1),\n",
       " (u'Vindhyan.', 1),\n",
       " (u'bar!', 2),\n",
       " (u'actioner,', 1),\n",
       " (u'revelers', 3)]"
      ]
     },
     "execution_count": 31,
     "metadata": {},
     "output_type": "execute_result"
    }
   ],
   "source": [
    "# split into words\n",
    "data_pos = data_raw_pos.flatMap(lambda x : x.split()).map(lambda x : (x, 1)).reduceByKey(lambda x, y : x+y)\n",
    "data_pos.take(10)"
   ]
  },
  {
   "cell_type": "code",
   "execution_count": 32,
   "metadata": {
    "collapsed": false
   },
   "outputs": [
    {
     "data": {
      "text/plain": [
       "[(u'fawn', 2),\n",
       " (u'Dh\\xe9ry,', 1),\n",
       " (u'boys),', 1),\n",
       " (u'\"SPOILER', 1),\n",
       " (u'planted-in-life', 1),\n",
       " (u'gangs.', 1),\n",
       " (u'her,in', 1),\n",
       " (u'Megalodon\"', 1),\n",
       " (u'(269.)', 1),\n",
       " (u\"syberberg's\", 1)]"
      ]
     },
     "execution_count": 32,
     "metadata": {},
     "output_type": "execute_result"
    }
   ],
   "source": [
    "data_neg = data_raw_neg.flatMap(lambda x : x.split()).map(lambda x : (x, 1)).reduceByKey(lambda x, y : x+y)\n",
    "data_neg.take(10)"
   ]
  },
  {
   "cell_type": "code",
   "execution_count": 33,
   "metadata": {
    "collapsed": false
   },
   "outputs": [
    {
     "name": "stdout",
     "output_type": "stream",
     "text": [
      "2661940 2593243\n"
     ]
    }
   ],
   "source": [
    "count_pos = data_pos.map(lambda x : x[1]).reduce(lambda x, y : x+y)\n",
    "count_neg = data_neg.map(lambda x : x[1]).reduce(lambda x, y : x+y)\n",
    "print count_pos, count_neg"
   ]
  },
  {
   "cell_type": "code",
   "execution_count": 34,
   "metadata": {
    "collapsed": false
   },
   "outputs": [
    {
     "name": "stdout",
     "output_type": "stream",
     "text": [
      "262059\n"
     ]
    }
   ],
   "source": [
    "v1 = data_pos.map(lambda x : x[0])\n",
    "v2 = data_neg.map(lambda x : x[0])\n",
    "v0 = v1.union(v2).distinct()\n",
    "v = v0.count()\n",
    "print v"
   ]
  },
  {
   "cell_type": "code",
   "execution_count": 35,
   "metadata": {
    "collapsed": true
   },
   "outputs": [],
   "source": [
    "pos_denom = float(count_pos + v + 1)\n",
    "neg_denom = float(count_neg + v + 1)"
   ]
  },
  {
   "cell_type": "code",
   "execution_count": 36,
   "metadata": {
    "collapsed": true
   },
   "outputs": [],
   "source": [
    "pos_prob = data_pos.map(lambda x : (x[0], np.log(float(x[1] + 1)/pos_denom)))\n",
    "neg_prob = data_neg.map(lambda x : (x[0], np.log(float(x[1] + 1)/neg_denom)))"
   ]
  },
  {
   "cell_type": "code",
   "execution_count": 37,
   "metadata": {
    "collapsed": false
   },
   "outputs": [
    {
     "data": {
      "text/plain": [
       "[(u'fawn', -13.766076236369988),\n",
       " (u'Dh\\xe9ry,', -14.171541344478152),\n",
       " (u'boys),', -14.171541344478152),\n",
       " (u'\"SPOILER', -14.171541344478152),\n",
       " (u'planted-in-life', -14.171541344478152),\n",
       " (u'gangs.', -14.171541344478152),\n",
       " (u'her,in', -14.171541344478152),\n",
       " (u'Megalodon\"', -14.171541344478152),\n",
       " (u'(269.)', -14.171541344478152),\n",
       " (u\"syberberg's\", -14.171541344478152)]"
      ]
     },
     "execution_count": 37,
     "metadata": {},
     "output_type": "execute_result"
    }
   ],
   "source": [
    "pos_prob.take(10)\n",
    "neg_prob.take(10)"
   ]
  },
  {
   "cell_type": "code",
   "execution_count": 38,
   "metadata": {
    "collapsed": false
   },
   "outputs": [],
   "source": [
    "pos_prob = dict(pos_prob.collect())\n",
    "neg_prob = dict(neg_prob.collect())"
   ]
  },
  {
   "cell_type": "code",
   "execution_count": 39,
   "metadata": {
    "collapsed": true
   },
   "outputs": [],
   "source": [
    "pos_prob_b = sc.broadcast(pos_prob)\n",
    "neg_prob_b = sc.broadcast(neg_prob)"
   ]
  },
  {
   "cell_type": "markdown",
   "metadata": {},
   "source": [
    "## Prediction"
   ]
  },
  {
   "cell_type": "code",
   "execution_count": 40,
   "metadata": {
    "collapsed": true
   },
   "outputs": [],
   "source": [
    "def pred_class(doc):\n",
    "    words = doc.split(\" \")\n",
    "    counts = Counter(words)\n",
    "    log_pos = 0.0\n",
    "    log_neg = 0.0\n",
    "    for w in counts:\n",
    "        log_pos += counts[w] * pos_prob_b.value.get(w, np.log(1.0/pos_denom)) # default probability of \"unk\"\n",
    "        log_neg += counts[w] * neg_prob_b.value.get(w, np.log(1.0/neg_denom))\n",
    "    if log_pos > log_neg:\n",
    "        return \"pos\"\n",
    "    return \"neg\""
   ]
  },
  {
   "cell_type": "code",
   "execution_count": 6,
   "metadata": {
    "collapsed": false
   },
   "outputs": [
    {
     "name": "stdout",
     "output_type": "stream",
     "text": [
      "I went and saw this movie last night after being coaxed to by a few friends of mine. I'll admit that I was reluctant to see it because from what I knew of Ashton Kutcher he was only able to do comedy. I was wrong. Kutcher played the character of Jake Fischer very well, and Kevin Costner played Ben Randall with such professionalism. The sign of a good movie is that it can toy with our emotions. This one did exactly that. The entire theater (which was sold out) was overcome by laughter during the first half of the movie, and were moved to tears during the second half. While exiting the theater I not only saw many women in tears, but many full grown men as well, trying desperately not to let anyone see them crying. This movie was great, and I suggest that you go see it before you judge.\n"
     ]
    }
   ],
   "source": [
    "test_raw_pos = sc.textFile(test_path + \"pos/*.txt\")\n",
    "print test_raw_pos.first()\n",
    "test_raw_neg = sc.textFile(test_path + \"neg/*.txt\")"
   ]
  },
  {
   "cell_type": "code",
   "execution_count": 42,
   "metadata": {
    "collapsed": false
   },
   "outputs": [],
   "source": [
    "test_pos_res = test_raw_pos.map(pred_class)\n",
    "pos_results = Counter(test_pos_res.collect())\n",
    "\n",
    "test_neg_res = test_raw_neg.map(pred_class)\n",
    "neg_results = Counter(test_neg_res.collect())"
   ]
  },
  {
   "cell_type": "code",
   "execution_count": 45,
   "metadata": {
    "collapsed": false
   },
   "outputs": [
    {
     "name": "stdout",
     "output_type": "stream",
     "text": [
      "0.8248\n"
     ]
    }
   ],
   "source": [
    "accuracy = (pos_results['pos'] + neg_results['neg'])/float(pos_results['pos'] + pos_results['neg'] + neg_results['pos'] + neg_results['neg'])\n",
    "print accuracy"
   ]
  },
  {
   "cell_type": "code",
   "execution_count": null,
   "metadata": {
    "collapsed": true
   },
   "outputs": [],
   "source": []
  }
 ],
 "metadata": {
  "anaconda-cloud": {},
  "kernelspec": {
   "display_name": "Python [conda root]",
   "language": "python",
   "name": "conda-root-py"
  },
  "language_info": {
   "codemirror_mode": {
    "name": "ipython",
    "version": 2
   },
   "file_extension": ".py",
   "mimetype": "text/x-python",
   "name": "python",
   "nbconvert_exporter": "python",
   "pygments_lexer": "ipython2",
   "version": "2.7.12"
  }
 },
 "nbformat": 4,
 "nbformat_minor": 1
}
